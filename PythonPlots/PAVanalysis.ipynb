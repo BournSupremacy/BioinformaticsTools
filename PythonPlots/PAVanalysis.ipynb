{
 "cells": [
  {
   "cell_type": "code",
   "execution_count": 1,
   "id": "e9ecb933-154d-462d-98f0-3ee433c1dd0d",
   "metadata": {},
   "outputs": [],
   "source": [
    "# Script to get rough gene PAV data.\n",
    "# I will use the gene.exist file to find this data.\n",
    "# In this file, the first row lists each sample as its own column,\n",
    "# and each subsequent line represents a single gene.\n",
    "# Then in each column there is either a 1 (for present) or a 0 (for absent) for each gene in each sample.\n",
    "# In HUPAN, the core genome was defined as those genes that are present in all individuals,\n",
    "# so that will be rows where there are no 0s.\n",
    "\n",
    "import os"
   ]
  },
  {
   "cell_type": "code",
   "execution_count": 2,
   "id": "7a665a57-1137-4474-b070-7b277ad31d1f",
   "metadata": {},
   "outputs": [
    {
     "name": "stdout",
     "output_type": "stream",
     "text": [
      "18617\n",
      "1292\n"
     ]
    }
   ],
   "source": [
    "pavfile = \"/cbio/projects/008/jess/HUPANrun/AfricanPanGenome/all/21_geneExist/gene90.gene.exist\"\n",
    "\n",
    "core = 0\n",
    "accessory = 0\n",
    "for line in open (pavfile, 'r'):\n",
    "    if not line.startswith (\"Gene\"): # skip first line\n",
    "        if \"0\" not in line.split(\"\\t\")[1:]:\n",
    "            core += 1\n",
    "        else:\n",
    "            accessory += 1\n",
    "            \n",
    "print (core)\n",
    "print (accessory)"
   ]
  },
  {
   "cell_type": "code",
   "execution_count": 15,
   "id": "76bf98d5-0920-44f0-a748-a4d18ffb3711",
   "metadata": {},
   "outputs": [
    {
     "name": "stdout",
     "output_type": "stream",
     "text": [
      "2\n",
      "29\n"
     ]
    }
   ],
   "source": [
    "corenov = 0\n",
    "accessorynov = 0\n",
    "\n",
    "for line in open (pavfile, 'r'):\n",
    "    if line.startswith (\"NovGene\"): # only check novel predicted genes\n",
    "        if \"0\" not in line.split(\"\\t\")[1:]:\n",
    "            corenov += 1\n",
    "        else:\n",
    "            accessorynov += 1\n",
    "            \n",
    "print (corenov)\n",
    "print (accessorynov)"
   ]
  },
  {
   "cell_type": "code",
   "execution_count": 3,
   "id": "5d62ea52-2596-4717-86a6-1edd9290a4fa",
   "metadata": {},
   "outputs": [
    {
     "name": "stdout",
     "output_type": "stream",
     "text": [
      "cds85.gene.exist\n",
      "Core: 18592\n",
      "Accessory: 1317\n",
      "\n",
      "cds95.gene.exist\n",
      "Core: 15353\n",
      "Accessory: 4556\n",
      "\n",
      "gene85.gene.exist\n",
      "Core: 19015\n",
      "Accessory: 894\n",
      "\n",
      "gene90.gene.exist\n",
      "Core: 18617\n",
      "Accessory: 1292\n",
      "\n",
      "both85.gene.exist\n",
      "Core: 18485\n",
      "Accessory: 1424\n",
      "\n",
      "cds90.gene.exist\n",
      "Core: 17741\n",
      "Accessory: 2168\n",
      "\n",
      "gene95.gene.exist\n",
      "Core: 17291\n",
      "Accessory: 2618\n",
      "\n",
      "both95.gene.exist\n",
      "Core: 14899\n",
      "Accessory: 5010\n",
      "\n",
      "both90.gene.exist\n",
      "Core: 17554\n",
      "Accessory: 2355\n",
      "\n"
     ]
    }
   ],
   "source": [
    "# Comparing what happens when you change CDS and gene coverage\n",
    "\n",
    "path = \"/cbio/projects/008/jess/HUPANrun/AfricanPanGenome/all/21_geneExist/\"\n",
    "for file in os.listdir(path):\n",
    "    print (file)\n",
    "    fullpath = os.path.join(path, file)\n",
    "    core = 0\n",
    "    accessory = 0\n",
    "    \n",
    "    for line in open (fullpath, 'r'):\n",
    "        if not line.startswith (\"Gene\"): # skip first line\n",
    "            parts = line.split(\"\\t\")\n",
    "            if \"0\" in parts[1:]:\n",
    "                accessory += 1\n",
    "            else:\n",
    "                core += 1\n",
    "            \n",
    "    print (f\"Core: {core}\")\n",
    "    print (f\"Accessory: {accessory}\\n\")"
   ]
  },
  {
   "cell_type": "code",
   "execution_count": 4,
   "id": "06f36a43-4f5c-4f8a-bcec-0112cb33c84d",
   "metadata": {},
   "outputs": [
    {
     "name": "stdout",
     "output_type": "stream",
     "text": [
      "cds85.gene.exist\n",
      "Core: 19525\n",
      "Accessory: 384\n",
      "\n",
      "cds95.gene.exist\n",
      "Core: 19024\n",
      "Accessory: 885\n",
      "\n",
      "gene85.gene.exist\n",
      "Core: 19559\n",
      "Accessory: 350\n",
      "\n",
      "gene90.gene.exist\n",
      "Core: 19461\n",
      "Accessory: 448\n",
      "\n",
      "both85.gene.exist\n",
      "Core: 19487\n",
      "Accessory: 422\n",
      "\n",
      "cds90.gene.exist\n",
      "Core: 19412\n",
      "Accessory: 497\n",
      "\n",
      "gene95.gene.exist\n",
      "Core: 19179\n",
      "Accessory: 730\n",
      "\n",
      "both95.gene.exist\n",
      "Core: 18829\n",
      "Accessory: 1080\n",
      "\n",
      "both90.gene.exist\n",
      "Core: 19342\n",
      "Accessory: 567\n",
      "\n"
     ]
    }
   ],
   "source": [
    "# Now seeing for if distributed defined a absent in more than 10% of samples\n",
    "\n",
    "path = \"/cbio/projects/008/jess/HUPANrun/AfricanPanGenome/all/21_geneExist/\"\n",
    "for file in os.listdir(path):\n",
    "    print (file)\n",
    "    fullpath = os.path.join(path, file)\n",
    "    core = 0\n",
    "    accessory = 0\n",
    "    \n",
    "    for line in open (fullpath, 'r'):\n",
    "        if not line.startswith (\"Gene\"): # skip first line\n",
    "            parts = line.split(\"\\t\")\n",
    "            if parts[1:].count(\"0\") < 16:\n",
    "                core += 1\n",
    "            else:\n",
    "                accessory += 1\n",
    "            \n",
    "    print (f\"Core: {core}\")\n",
    "    print (f\"Accessory: {accessory}\\n\")"
   ]
  }
 ],
 "metadata": {
  "kernelspec": {
   "display_name": "Python 3",
   "language": "python",
   "name": "python3"
  },
  "language_info": {
   "codemirror_mode": {
    "name": "ipython",
    "version": 3
   },
   "file_extension": ".py",
   "mimetype": "text/x-python",
   "name": "python",
   "nbconvert_exporter": "python",
   "pygments_lexer": "ipython3",
   "version": "3.8.3"
  }
 },
 "nbformat": 4,
 "nbformat_minor": 5
}
